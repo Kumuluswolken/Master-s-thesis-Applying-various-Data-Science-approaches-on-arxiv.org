{
  "nbformat": 4,
  "nbformat_minor": 0,
  "metadata": {
    "colab": {
      "name": "2 - Topictrend detection.ipynb",
      "version": "0.3.2",
      "provenance": [],
      "collapsed_sections": []
    },
    "kernelspec": {
      "display_name": "Python 2",
      "language": "python",
      "name": "python2"
    }
  },
  "cells": [
    {
      "metadata": {
        "id": "AzgTFZRuVQ80",
        "colab_type": "text"
      },
      "cell_type": "markdown",
      "source": [
        "This was the first project I did. I wanted to detect topic trends in the papers.\n",
        "The basic idea behind it was to use linear regression: A linear regression gets points from a graph and tries to fit a linear graph through the points to have a minimal distance for each point to the graph. I would use a time series and see from the fitted graph if there was a positive gradient for it which would indicate an increased interest in that word over time.\n",
        "I did that in two different time frames: 1 week and 1 year\n",
        "And I used two different methods: Getting the data from an RSS feed and getting the data from the constructed dataframe.\n",
        "\n",
        "Of course I need to import all needed packages: A feedparser, Pandas, Numpy (for the linear regression), matplotlib (for graphs) and NLTK packages for linguistic pre-processing."
      ]
    },
    {
      "metadata": {
        "id": "MkhAq7DrVQ84",
        "colab_type": "code",
        "colab": {}
      },
      "cell_type": "code",
      "source": [
        "import feedparser\n",
        "import pandas as pd\n",
        "import numpy as np\n",
        "import matplotlib\n",
        "import matplotlib.pyplot as plt\n",
        "from nltk.stem import WordNetLemmatizer\n",
        "from nltk.tokenize import word_tokenize\n",
        "from nltk import pos_tag, word_tokenize\n",
        "matplotlib.style.use('ggplot')\n",
        "%matplotlib inline"
      ],
      "execution_count": 0,
      "outputs": []
    },
    {
      "metadata": {
        "id": "gKMkjSaoVQ9C",
        "colab_type": "text"
      },
      "cell_type": "markdown",
      "source": [
        "This part is for getting the RSS feed for one day.\n",
        "As some pre-work I had to figure out if the feed is updated continuously or once a day. I found that it is updated once a day, Monday to Friday. So it was sufficient to query the feed on a set time once a day.\n",
        "In this example I am retrieving the Computer Science feed that looks like this:\n",
        "http://export.arxiv.org/rss/cs\n",
        "\n",
        "The feedparser gets it in a nice format already, so I am creating a list of words contained in the summaries in this case."
      ]
    },
    {
      "metadata": {
        "id": "DgjIJWrAVQ9E",
        "colab_type": "code",
        "outputId": "978a3299-da42-4680-eb06-0c50b5a829a9",
        "colab": {}
      },
      "cell_type": "code",
      "source": [
        "d = feedparser.parse('http://export.arxiv.org/rss/cs')\n",
        "print len(d['entries'])\n",
        "summary=[]\n",
        "for n in range(len(d['entries'])):\n",
        "    summary+=d['entries'][n]['summary'].split()"
      ],
      "execution_count": 0,
      "outputs": [
        {
          "output_type": "stream",
          "text": [
            "247\n"
          ],
          "name": "stdout"
        }
      ]
    },
    {
      "metadata": {
        "id": "RkqSE5kiVQ9M",
        "colab_type": "text"
      },
      "cell_type": "markdown",
      "source": [
        "This code is for some linguistic pre-processing.\n",
        "At first I get rid of all unwanted data like HTML tags, brackets, colons etc., normalize everything to lowercase and remove empty words.\n",
        "Then I tokenize the words so that occurences of \"runs\" and \"running\" both count as occurences of \"run\" for example.\n",
        "After that step I want to remove all \"stop words\". Stop words are those words in a corpus that don't give you any kind of insight (like \"the\", \"a\" etc)\n",
        "I am working with different sets of stop words to get rid of as much as possible. I found this file \"atire_puurula\" on the internet which contained about 900 stop words in contrast to the ready NLTK set which had like 200. So I decided to also use that.\n",
        "Then I run the list of words I have against those stop word lists, if the word is in neither of those lists I keep it."
      ]
    },
    {
      "metadata": {
        "id": "3CdHV1C8VQ9O",
        "colab_type": "code",
        "colab": {}
      },
      "cell_type": "code",
      "source": [
        "from stop_words import get_stop_words\n",
        "from nltk.corpus import stopwords\n",
        "liste=summary\n",
        "liste= [w.replace('<p>', '') for w in liste]\n",
        "liste = [w.replace('</p>', '') for w in liste]\n",
        "liste = [w.replace('.', '') for w in liste]\n",
        "liste = [w.replace(',', '') for w in liste]\n",
        "liste = [w.replace(':', '') for w in liste]\n",
        "liste = [w.replace('!', '') for w in liste]\n",
        "liste = [w.replace('(', '') for w in liste]\n",
        "liste = [w.replace(')', '') for w in liste]\n",
        "liste = [w.replace('\"', '') for w in liste]\n",
        "liste = [w.replace('$', '') for w in liste]\n",
        "liste = [w.replace('{', '') for w in liste]\n",
        "liste = [w.replace('}', '') for w in liste]\n",
        "liste = [w.replace('[', '') for w in liste]\n",
        "liste = [w.replace(']', '') for w in liste]\n",
        "liste = [w.replace(w,w.lower()) for w in liste]\n",
        "liste = [w.replace('\\r\\r\\r\\r\\r\\r\\n','') for w in liste]\n",
        "liste = [w.replace('\\r\\r\\r\\r\\n','') for w in liste]\n",
        "liste = [w.replace('\\r','') for w in liste]\n",
        "for element in liste:\n",
        "    if element=='':\n",
        "        liste.remove(element)\n",
        "liste_tagged=[]\n",
        "lemma=WordNetLemmatizer()\n",
        "for element in liste:\n",
        "    liste_tagged.append(pos_tag(word_tokenize(element)))\n",
        "liste_lemma=[]\n",
        "for element in liste_tagged:\n",
        "    for word, tag in element:\n",
        "        if tag.startswith(\"NN\"):\n",
        "            liste_lemma.append(lemma.lemmatize(word, pos='n'))\n",
        "        elif tag.startswith('VB'):\n",
        "            liste_lemma.append(lemma.lemmatize(word, pos='v'))\n",
        "        elif tag.startswith('JJ'):\n",
        "            liste_lemma.append(lemma.lemmatize(word, pos='a'))\n",
        "        else:\n",
        "            liste_lemma.append(word)\n",
        "stop_words = get_stop_words('en')\n",
        "stopWords = set(stopwords.words('english'))\n",
        "fo = open(\"atire_puurula.txt\", \"r\")\n",
        "line = fo.readlines()\n",
        "new_out=[w.replace('\\n', '') for w in line]\n",
        "fo.close()\n",
        "liste_stopped=[]\n",
        "\n",
        "for w in liste_lemma:\n",
        "    if w not in stopWords and w not in stop_words and w not in new_out:\n",
        "        liste_stopped.append(w)"
      ],
      "execution_count": 0,
      "outputs": []
    },
    {
      "metadata": {
        "id": "PDkdA3R0VQ9S",
        "colab_type": "text"
      },
      "cell_type": "markdown",
      "source": [
        "For some first statistics I am counting the relative occurence of a word"
      ]
    },
    {
      "metadata": {
        "id": "RmLcs-8-VQ9T",
        "colab_type": "code",
        "colab": {}
      },
      "cell_type": "code",
      "source": [
        "counts = dict()\n",
        "for i in liste_stopped:\n",
        "  counts[i] = counts.get(i, 0) + 1\n",
        "for key, value in counts.items():\n",
        "    counts[key] = float(value)/float(len(liste_stopped))*100"
      ],
      "execution_count": 0,
      "outputs": []
    },
    {
      "metadata": {
        "id": "4gMFUCjJVQ9W",
        "colab_type": "text"
      },
      "cell_type": "markdown",
      "source": [
        "Here I plot the outcome into a graph. You can see that the word \"model\" was pretty popular that day."
      ]
    },
    {
      "metadata": {
        "id": "ZwA80r_vVQ9X",
        "colab_type": "code",
        "outputId": "56d50d0b-374f-402e-b87e-7e735cf035b0",
        "colab": {}
      },
      "cell_type": "code",
      "source": [
        "s = pd.Series(counts, name='Value')\n",
        "s.index.name = 'Word'\n",
        "s.reset_index()\n",
        "s.sort_values().tail(n=30).plot(kind='bar')"
      ],
      "execution_count": 0,
      "outputs": [
        {
          "output_type": "execute_result",
          "data": {
            "text/plain": [
              "<matplotlib.axes._subplots.AxesSubplot at 0x17adc5c0>"
            ]
          },
          "metadata": {
            "tags": []
          },
          "execution_count": 5
        },
        {
          "output_type": "display_data",
          "data": {
            "image/png": "[encoded data removed]",
            "text/plain": [
              "<matplotlib.figure.Figure at 0xd2e2da0>"
            ]
          },
          "metadata": {
            "tags": []
          }
        }
      ]
    },
    {
      "metadata": {
        "id": "k_NVSY4bVQ9b",
        "colab_type": "text"
      },
      "cell_type": "markdown",
      "source": [
        "Since I wanted to do this for many days I needed to store those values somewhere. I decided to fiddle around a bit with SQL a bit and created a SQLite database where I stored the word, value of relative occurence together with the date into a table."
      ]
    },
    {
      "metadata": {
        "id": "u85cFCUWVQ9d",
        "colab_type": "code",
        "colab": {}
      },
      "cell_type": "code",
      "source": [
        "date='x'\n",
        "import sqlite3\n",
        "db = sqlite3.connect('trends_cs_cl_summary')\n",
        "cursor = db.cursor()\n",
        "for key,value in counts.items():\n",
        "    cursor.execute('''INSERT INTO trends(word, value, date)\n",
        "                  VALUES(?,?,?)''', (key,value,date))\n",
        "db.commit()\n",
        "db.close()"
      ],
      "execution_count": 0,
      "outputs": []
    },
    {
      "metadata": {
        "id": "iMceYJZFVQ9g",
        "colab_type": "text"
      },
      "cell_type": "markdown",
      "source": [
        "This code is to recreate the dictionaries with the value for relative word occurences for the different days."
      ]
    },
    {
      "metadata": {
        "id": "ZChd4-tMVQ9i",
        "colab_type": "code",
        "colab": {}
      },
      "cell_type": "code",
      "source": [
        "db = sqlite3.connect('trends_astro-ph_summary')\n",
        "cursor = db.cursor()\n",
        "\n",
        "cursor.execute('''SELECT word, value FROM trends WHERE date=\"25-06-2018\"''')\n",
        "dbdict1=dict()\n",
        "for row in cursor:\n",
        "    dbdict1.update({row[0]:row[1]})\n",
        "\n",
        "cursor.execute('''SELECT word, value FROM trends WHERE date=\"26-06-2018\"''')    \n",
        "dbdict2=dict()\n",
        "for row in cursor:\n",
        "    dbdict2.update({row[0]:row[1]})\n",
        "\n",
        "cursor.execute('''SELECT word, value FROM trends WHERE date=\"27-06-2018\"''')\n",
        "dbdict3=dict()\n",
        "for row in cursor:\n",
        "    dbdict3.update({row[0]:row[1]})\n",
        "    \n",
        "cursor.execute('''SELECT word, value FROM trends WHERE date=\"28-06-2018\"''')\n",
        "dbdict4=dict()\n",
        "for row in cursor:\n",
        "    dbdict4.update({row[0]:row[1]})\n",
        "    \n",
        "cursor.execute('''SELECT word, value FROM trends WHERE date=\"29-06-2018\"''')\n",
        "dbdict5=dict()\n",
        "for row in cursor:\n",
        "    dbdict5.update({row[0]:row[1]})\n",
        "db.close()"
      ],
      "execution_count": 0,
      "outputs": []
    },
    {
      "metadata": {
        "id": "dQelrVs5VQ9k",
        "colab_type": "text"
      },
      "cell_type": "markdown",
      "source": [
        "Now I create a final dictionary. As a key I am using the word, as the value I store a dataframe with two columns: Column 1 has the date in a codified format (1 for the first day, 2 for the second day etc.) I am iterating over the dictionaries I created before and if I come across a new word I store the word and a new dataframe with date and relative occurence. If I come across a word that is already in the dictionary I append a row to the dataframe of that word."
      ]
    },
    {
      "metadata": {
        "id": "GF54nNCoVQ9m",
        "colab_type": "code",
        "colab": {}
      },
      "cell_type": "code",
      "source": [
        "framedict={}\n",
        "for element in dbdict1.keys():\n",
        "    framedict.update({element:pd.DataFrame(data={'date':[1],'value':[dbdict1[element]]})})\n",
        "\n",
        "for element in dbdict2.keys():\n",
        "    if element in framedict.keys():\n",
        "        framedict.update({element:framedict.get(element).merge(pd.DataFrame(data={'date':[2],'value':[dbdict2[element]]}), how='outer')})\n",
        "    else:\n",
        "        framedict.update({element:pd.DataFrame(data={'date':[2],'value':[dbdict2[element]]})})\n",
        "        \n",
        "for element in dbdict3.keys():\n",
        "    if element in framedict.keys():\n",
        "        framedict.update({element:framedict.get(element).merge(pd.DataFrame(data={'date':[3],'value':[dbdict3[element]]}), how='outer')})\n",
        "    else:\n",
        "        framedict.update({element:pd.DataFrame(data={'date':[3],'value':[dbdict3[element]]})})\n",
        "\n",
        "for element in dbdict4.keys():\n",
        "    if element in framedict.keys():\n",
        "        framedict.update({element:framedict.get(element).merge(pd.DataFrame(data={'date':[4],'value':[dbdict4[element]]}), how='outer')})\n",
        "    else:\n",
        "        framedict.update({element:pd.DataFrame(data={'date':[4],'value':[dbdict4[element]]})})\n",
        "        \n",
        "for element in dbdict5.keys():\n",
        "    if element in framedict.keys():\n",
        "        framedict.update({element:framedict.get(element).merge(pd.DataFrame(data={'date':[5],'value':[dbdict5[element]]}), how='outer')})\n",
        "    else:\n",
        "        framedict.update({element:pd.DataFrame(data={'date':[5],'value':[dbdict5[element]]})})"
      ],
      "execution_count": 0,
      "outputs": []
    },
    {
      "metadata": {
        "id": "8EGJl7-0VQ9p",
        "colab_type": "text"
      },
      "cell_type": "markdown",
      "source": [
        "This code is doing the actual linear regression. It is going over each word in the dictionary and takes the dataframe. The x-axis is the time and the y axis the relative occurence of a word. After fitting the graph I look for the gradient if it passes a certain threshold (i found that threshold by experimenting which value gives me a moderate amount of outputs).\n",
        "Now I can see which words had the strongest gradient. These ones are the words with the strongest positive trend."
      ]
    },
    {
      "metadata": {
        "id": "dK0q5VT7VQ9q",
        "colab_type": "code",
        "outputId": "9a25f001-ea1e-440d-805e-9faa35791889",
        "colab": {}
      },
      "cell_type": "code",
      "source": [
        "for element in framedict.values():\n",
        "    if element.count()[0]==1:\n",
        "        continue\n",
        "    else:\n",
        "        lm_original = np.polyfit(element.date, element.value, 1)\n",
        "        if lm_original[0]>0.05:\n",
        "            for key, value in framedict.iteritems():\n",
        "                if list(value.value) == list(element.value):\n",
        "                    print lm_original[0],key"
      ],
      "execution_count": 0,
      "outputs": [
        {
          "output_type": "stream",
          "text": [
            "0.06474311738 neutrino\n",
            "0.0556338344173 setup\n",
            "0.0985369240861 e_c\n",
            "0.0636316095462 dark\n",
            "0.0584707719416 energy\n",
            "0.0721853332009 gas\n",
            "0.0650384816094 galaxy\n",
            "0.0570356559379 eos\n",
            "0.0810953239144 post-newtonian\n"
          ],
          "name": "stdout"
        }
      ]
    },
    {
      "metadata": {
        "id": "QzlftyvkVQ9u",
        "colab_type": "text"
      },
      "cell_type": "markdown",
      "source": [
        "This part is showing how it is working when you are using the dataframe as a base."
      ]
    },
    {
      "metadata": {
        "id": "CDy-doUiVQ9v",
        "colab_type": "code",
        "colab": {}
      },
      "cell_type": "code",
      "source": [
        "frame=pd.read_csv('framemai17.csv')\n",
        "frame=frame.drop(frame.columns[0], axis=1)"
      ],
      "execution_count": 0,
      "outputs": []
    },
    {
      "metadata": {
        "id": "hFDSAC5UVQ9z",
        "colab_type": "text"
      },
      "cell_type": "markdown",
      "source": [
        "This code generally works like explained above, it is just modified to fit for one year and not for one week."
      ]
    },
    {
      "metadata": {
        "id": "MPn-Y3K6VQ90",
        "colab_type": "code",
        "colab": {}
      },
      "cell_type": "code",
      "source": [
        "import re\n",
        "summary=[]\n",
        "for element in frame.iterrows():\n",
        "    if re.search(\"Astrophysics\",element[1][\"Subjects\"]) and re.search(\"abs/1805\",element[1][\"Identifier\"]):\n",
        "        summary+=element[1][\"Description\"].split()\n",
        "summary = [w.replace('<p>', '') for w in summary]\n",
        "summary = [w.replace('</p>', '') for w in summary]\n",
        "summary = [w.replace('.', '') for w in summary]\n",
        "summary = [w.replace(',', '') for w in summary]\n",
        "summary = [w.replace(':', '') for w in summary]\n",
        "summary = [w.replace('!', '') for w in summary]\n",
        "summary = [w.replace('(', '') for w in summary]\n",
        "summary = [w.replace(')', '') for w in summary]\n",
        "summary = [w.replace('\"', '') for w in summary]\n",
        "summary = [w.replace('$', '') for w in summary]\n",
        "summary = [w.replace('{', '') for w in summary]\n",
        "summary = [w.replace('}', '') for w in summary]\n",
        "summary = [w.replace('[', '') for w in summary]\n",
        "summary = [w.replace(']', '') for w in summary]\n",
        "summary = [w.replace(w,w.lower()) for w in summary]\n",
        "for element in summary:\n",
        "    if element=='':\n",
        "        summary.remove(element)\n",
        "encoded=[]\n",
        "for element in summary:\n",
        "    encoded.append(element.decode(\"utf-8\"))\n",
        "summary=encoded\n",
        "\n",
        "summary_tagged=[]\n",
        "lemma=WordNetLemmatizer()\n",
        "for element in summary:\n",
        "    summary_tagged.append(pos_tag(word_tokenize(element)))\n",
        "\n",
        "summary=[]\n",
        "for element in summary_tagged:\n",
        "    for word, tag in element:\n",
        "        if tag.startswith(\"NN\"):\n",
        "            summary.append(lemma.lemmatize(word, pos='n'))\n",
        "        elif tag.startswith('VB'):\n",
        "            summary.append(lemma.lemmatize(word, pos='v'))\n",
        "        elif tag.startswith('JJ'):\n",
        "            summary.append(lemma.lemmatize(word, pos='a'))\n",
        "        else:\n",
        "            summary.append(word)\n",
        "from stop_words import get_stop_words\n",
        "\n",
        "stop_words = get_stop_words('en')\n",
        "\n",
        "from nltk.corpus import stopwords\n",
        "\n",
        "stopWords = set(stopwords.words('english'))\n",
        "fo = open(\"atire_puurula.txt\", \"r\")\n",
        "line = fo.readlines()\n",
        "new_out=[w.replace('\\n', '') for w in line]\n",
        "fo.close()\n",
        "\n",
        "output=[]\n",
        "\n",
        "for w in summary:\n",
        "    if w.lower() not in stopWords and w.lower() not in stop_words and w.lower() not in new_out:\n",
        "        output.append(w)\n",
        "\n",
        "\n",
        "dbdict13 = dict()\n",
        "for i in output:\n",
        "    dbdict13[i] = dbdict13.get(i, 0) + 1\n",
        "for key, value in dbdict13.items():\n",
        "    dbdict13[key] = float(value)/float(len(output))*100"
      ],
      "execution_count": 0,
      "outputs": []
    },
    {
      "metadata": {
        "id": "lXvMcJG0VQ97",
        "colab_type": "code",
        "colab": {}
      },
      "cell_type": "code",
      "source": [
        ""
      ],
      "execution_count": 0,
      "outputs": []
    }
  ]
}